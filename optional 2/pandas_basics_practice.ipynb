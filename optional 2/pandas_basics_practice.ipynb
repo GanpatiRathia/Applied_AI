{
 "cells": [
  {
   "cell_type": "markdown",
   "metadata": {
    "colab_type": "text",
    "id": "WFYuAxS2hcu6"
   },
   "source": [
    "**Consider the following Python dictionary data and Python list labels:**\n",
    "\n",
    "data = {'birds': ['Cranes', 'Cranes', 'plovers', 'spoonbills', 'spoonbills', 'Cranes', 'plovers', 'Cranes', 'spoonbills', 'spoonbills'],\n",
    "        'age': [3.5, 4, 1.5, np.nan, 6, 3, 5.5, np.nan, 8, 4],\n",
    "        'visits': [2, 4, 3, 4, 3, 4, 2, 2, 3, 2],\n",
    "        'priority': ['yes', 'yes', 'no', 'yes', 'no', 'no', 'no', 'yes', 'no', 'no']}\n",
    "\n",
    "labels = ['a', 'b', 'c', 'd', 'e', 'f', 'g', 'h', 'i', 'j']\n"
   ]
  },
  {
   "cell_type": "markdown",
   "metadata": {
    "colab_type": "text",
    "id": "KaY8jRX3hcu9"
   },
   "source": [
    "**1. Create a DataFrame birds from this dictionary data which has the index labels.**"
   ]
  },
  {
   "cell_type": "code",
   "execution_count": 1,
   "metadata": {
    "colab": {},
    "colab_type": "code",
    "id": "AWrM74tnhcu_"
   },
   "outputs": [
    {
     "name": "stdout",
     "output_type": "stream",
     "text": [
      "        birds  age  visits priority\n",
      "a      Cranes  3.5       2      yes\n",
      "b      Cranes  4.0       4      yes\n",
      "c     plovers  1.5       3       no\n",
      "d  spoonbills  NaN       4      yes\n",
      "e  spoonbills  6.0       3       no\n",
      "f      Cranes  3.0       4       no\n",
      "g     plovers  5.5       2       no\n",
      "h      Cranes  NaN       2      yes\n",
      "i  spoonbills  8.0       3       no\n",
      "j  spoonbills  4.0       2       no\n"
     ]
    }
   ],
   "source": [
    "import pandas as pd\n",
    "import numpy as np\n",
    "data = {\n",
    "    'birds': ['Cranes','Cranes','plovers','spoonbills','spoonbills','Cranes','plovers','Cranes','spoonbills','spoonbills'], \n",
    "    'age': [3.5, 4, 1.5, np.nan, 6, 3, 5.5, np.nan, 8, 4], \n",
    "    'visits': [2, 4, 3, 4, 3, 4, 2, 2, 3, 2], \n",
    "    'priority': ['yes', 'yes', 'no', 'yes', 'no', 'no', 'no', 'yes', 'no', 'no']\n",
    "    }\n",
    "labels = ['a', 'b', 'c', 'd', 'e', 'f', 'g', 'h', 'i', 'j']\n",
    "df = pd.DataFrame(data,index=labels)\n",
    "print(df)"
   ]
  },
  {
   "cell_type": "markdown",
   "metadata": {
    "colab_type": "text",
    "id": "31bQ4H55hcvG"
   },
   "source": [
    "**2. Display a summary of the basic information about birds DataFrame and its data.**"
   ]
  },
  {
   "cell_type": "code",
   "execution_count": 2,
   "metadata": {
    "colab": {},
    "colab_type": "code",
    "id": "PT7e5BiThcvI"
   },
   "outputs": [
    {
     "name": "stdout",
     "output_type": "stream",
     "text": [
      "            age     visits\n",
      "count  8.000000  10.000000\n",
      "mean   4.437500   2.900000\n",
      "std    2.007797   0.875595\n",
      "min    1.500000   2.000000\n",
      "25%    3.375000   2.000000\n",
      "50%    4.000000   3.000000\n",
      "75%    5.625000   3.750000\n",
      "max    8.000000   4.000000\n"
     ]
    }
   ],
   "source": [
    "print(df.describe())"
   ]
  },
  {
   "cell_type": "markdown",
   "metadata": {
    "colab_type": "text",
    "id": "ppsyynzjhcvN"
   },
   "source": [
    "**3. Print the first 2 rows of the birds dataframe **"
   ]
  },
  {
   "cell_type": "code",
   "execution_count": 3,
   "metadata": {
    "colab": {},
    "colab_type": "code",
    "id": "mJtG2ES9hcvQ"
   },
   "outputs": [
    {
     "name": "stdout",
     "output_type": "stream",
     "text": [
      "    birds  age  visits priority\n",
      "a  Cranes  3.5       2      yes\n",
      "b  Cranes  4.0       4      yes\n"
     ]
    }
   ],
   "source": [
    "print(df.head(2))"
   ]
  },
  {
   "cell_type": "markdown",
   "metadata": {
    "colab_type": "text",
    "id": "331CiAQDhcvW"
   },
   "source": [
    "**4. Print all the rows with only 'birds' and 'age' columns from the dataframe**"
   ]
  },
  {
   "cell_type": "code",
   "execution_count": 4,
   "metadata": {
    "colab": {},
    "colab_type": "code",
    "id": "eJm1icJhhcvY"
   },
   "outputs": [
    {
     "name": "stdout",
     "output_type": "stream",
     "text": [
      "        birds  age\n",
      "a      Cranes  3.5\n",
      "b      Cranes  4.0\n",
      "c     plovers  1.5\n",
      "d  spoonbills  NaN\n",
      "e  spoonbills  6.0\n",
      "f      Cranes  3.0\n",
      "g     plovers  5.5\n",
      "h      Cranes  NaN\n",
      "i  spoonbills  8.0\n",
      "j  spoonbills  4.0\n"
     ]
    }
   ],
   "source": [
    "print(df[['birds','age']])"
   ]
  },
  {
   "cell_type": "markdown",
   "metadata": {
    "colab_type": "text",
    "id": "33v_rzNyhcvf"
   },
   "source": [
    "**5. select [2, 3, 7] rows and in columns ['birds', 'age', 'visits']**"
   ]
  },
  {
   "cell_type": "code",
   "execution_count": 5,
   "metadata": {
    "colab": {},
    "colab_type": "code",
    "id": "ia5weqCOhcvh"
   },
   "outputs": [
    {
     "name": "stdout",
     "output_type": "stream",
     "text": [
      "        birds  age  visits\n",
      "c     plovers  1.5       3\n",
      "d  spoonbills  NaN       4\n",
      "h      Cranes  NaN       2\n"
     ]
    }
   ],
   "source": [
    "print(df[['birds', 'age', 'visits']].iloc[[2,3,7]])\n"
   ]
  },
  {
   "cell_type": "markdown",
   "metadata": {
    "colab_type": "text",
    "id": "uulxo5y-hcvo"
   },
   "source": [
    "**6. select the rows where the number of visits is less than 4**"
   ]
  },
  {
   "cell_type": "code",
   "execution_count": 6,
   "metadata": {
    "colab": {},
    "colab_type": "code",
    "id": "6Khj7LfZhcvq"
   },
   "outputs": [
    {
     "name": "stdout",
     "output_type": "stream",
     "text": [
      "        birds  age  visits priority\n",
      "a      Cranes  3.5       2      yes\n",
      "c     plovers  1.5       3       no\n",
      "e  spoonbills  6.0       3       no\n",
      "g     plovers  5.5       2       no\n",
      "h      Cranes  NaN       2      yes\n",
      "i  spoonbills  8.0       3       no\n",
      "j  spoonbills  4.0       2       no\n"
     ]
    }
   ],
   "source": [
    "print(df[df['visits'] < 4])"
   ]
  },
  {
   "cell_type": "markdown",
   "metadata": {
    "colab_type": "text",
    "id": "sB8icEBVhcvy"
   },
   "source": [
    "**7. select the rows with columns ['birds', 'visits'] where the age is missing i.e NaN**"
   ]
  },
  {
   "cell_type": "code",
   "execution_count": 7,
   "metadata": {
    "colab": {},
    "colab_type": "code",
    "id": "dHoZ2z2ghcv2"
   },
   "outputs": [
    {
     "name": "stdout",
     "output_type": "stream",
     "text": [
      "        birds  visits\n",
      "d  spoonbills       4\n",
      "h      Cranes       2\n"
     ]
    }
   ],
   "source": [
    "print(df[['birds','visits']][df['age'].isnull()])"
   ]
  },
  {
   "cell_type": "markdown",
   "metadata": {
    "colab_type": "text",
    "id": "sgiIkh1Ghcv-"
   },
   "source": [
    "**8. Select the rows where the birds is a Cranes and the age is less than 4**"
   ]
  },
  {
   "cell_type": "code",
   "execution_count": 8,
   "metadata": {
    "colab": {},
    "colab_type": "code",
    "id": "4of7A8gehcwC"
   },
   "outputs": [
    {
     "name": "stdout",
     "output_type": "stream",
     "text": [
      "    birds  age  visits priority\n",
      "a  Cranes  3.5       2      yes\n",
      "f  Cranes  3.0       4       no\n"
     ]
    }
   ],
   "source": [
    "print(df[(df['birds'] == 'Cranes') & (df['age'] < 4)])"
   ]
  },
  {
   "cell_type": "markdown",
   "metadata": {
    "colab_type": "text",
    "id": "IZrFrd1AhcwH"
   },
   "source": [
    "**9. Select the rows the age is between 2 and 4(inclusive)**"
   ]
  },
  {
   "cell_type": "code",
   "execution_count": 9,
   "metadata": {
    "colab": {},
    "colab_type": "code",
    "id": "Ij6co9oJhcwT"
   },
   "outputs": [
    {
     "name": "stdout",
     "output_type": "stream",
     "text": [
      "        birds  age  visits priority\n",
      "a      Cranes  3.5       2      yes\n",
      "b      Cranes  4.0       4      yes\n",
      "f      Cranes  3.0       4       no\n",
      "j  spoonbills  4.0       2       no\n"
     ]
    }
   ],
   "source": [
    "print(df[(df['age'] >= 2) & (df['age'] <= 4)])"
   ]
  },
  {
   "cell_type": "markdown",
   "metadata": {
    "colab_type": "text",
    "id": "KvV1eyyehcwX"
   },
   "source": [
    "**10. Find the total number of visits of the bird Cranes**"
   ]
  },
  {
   "cell_type": "code",
   "execution_count": 10,
   "metadata": {
    "colab": {},
    "colab_type": "code",
    "id": "y5NyL569hcwY"
   },
   "outputs": [
    {
     "name": "stdout",
     "output_type": "stream",
     "text": [
      "12\n"
     ]
    }
   ],
   "source": [
    "print(df['visits'][df['birds'] == 'Cranes'].sum())"
   ]
  },
  {
   "cell_type": "markdown",
   "metadata": {
    "colab_type": "text",
    "id": "S-1B7oDehcwf"
   },
   "source": [
    "**11. Calculate the mean age for each different birds in dataframe.**"
   ]
  },
  {
   "cell_type": "code",
   "execution_count": 11,
   "metadata": {
    "colab": {},
    "colab_type": "code",
    "id": "ljKjf7nyhcwg"
   },
   "outputs": [
    {
     "name": "stdout",
     "output_type": "stream",
     "text": [
      "        birds  age\n",
      "0      Cranes  3.5\n",
      "1     plovers  3.5\n",
      "2  spoonbills  6.0\n"
     ]
    }
   ],
   "source": [
    "print(df.groupby('birds', as_index=False)['age'].mean() )"
   ]
  },
  {
   "cell_type": "markdown",
   "metadata": {
    "colab_type": "text",
    "id": "B5HIznnMhcwl"
   },
   "source": [
    "**12. Append a new row 'k' to dataframe with your choice of values for each column. Then delete that row to return the original DataFrame.**"
   ]
  },
  {
   "cell_type": "code",
   "execution_count": 12,
   "metadata": {
    "colab": {},
    "colab_type": "code",
    "id": "GDDd9mXEhcwm"
   },
   "outputs": [
    {
     "name": "stdout",
     "output_type": "stream",
     "text": [
      "Original Dataframe : \n",
      "        birds  age  visits priority\n",
      "a      Cranes  3.5       2      yes\n",
      "b      Cranes  4.0       4      yes\n",
      "c     plovers  1.5       3       no\n",
      "d  spoonbills  NaN       4      yes\n",
      "e  spoonbills  6.0       3       no\n",
      "f      Cranes  3.0       4       no\n",
      "g     plovers  5.5       2       no\n",
      "h      Cranes  NaN       2      yes\n",
      "i  spoonbills  8.0       3       no\n",
      "j  spoonbills  4.0       2       no \n",
      "\n",
      "Dataframe After appending a new row 'k' : \n",
      "        birds  age  visits priority\n",
      "a      Cranes  3.5       2      yes\n",
      "b      Cranes  4.0       4      yes\n",
      "c     plovers  1.5       3       no\n",
      "d  spoonbills  NaN       4      yes\n",
      "e  spoonbills  6.0       3       no\n",
      "f      Cranes  3.0       4       no\n",
      "g     plovers  5.5       2       no\n",
      "h      Cranes  NaN       2      yes\n",
      "i  spoonbills  8.0       3       no\n",
      "j  spoonbills  4.0       2       no\n",
      "k      parrot  2.5       3      yes \n",
      "\n",
      "Dataframe After deleting row 'k' : \n",
      "        birds  age  visits priority\n",
      "a      Cranes  3.5       2      yes\n",
      "b      Cranes  4.0       4      yes\n",
      "c     plovers  1.5       3       no\n",
      "d  spoonbills  NaN       4      yes\n",
      "e  spoonbills  6.0       3       no\n",
      "f      Cranes  3.0       4       no\n",
      "g     plovers  5.5       2       no\n",
      "h      Cranes  NaN       2      yes\n",
      "i  spoonbills  8.0       3       no\n",
      "j  spoonbills  4.0       2       no \n",
      "\n"
     ]
    }
   ],
   "source": [
    "print(\"Original Dataframe : \")\n",
    "print(df,\"\\n\")\n",
    "df.loc['k'] = ['parrot',2.5,3,'yes']\n",
    "print(\"Dataframe After appending a new row 'k' : \")\n",
    "print(df,\"\\n\")\n",
    "df=df.drop('k')\n",
    "print(\"Dataframe After deleting row 'k' : \")\n",
    "print(df,\"\\n\")"
   ]
  },
  {
   "cell_type": "markdown",
   "metadata": {
    "colab_type": "text",
    "id": "_cLx6xLahcwq"
   },
   "source": [
    "**13. Find the number of each type of birds in dataframe (Counts)**"
   ]
  },
  {
   "cell_type": "code",
   "execution_count": 13,
   "metadata": {
    "colab": {},
    "colab_type": "code",
    "id": "aTHV8JJMhcws"
   },
   "outputs": [
    {
     "name": "stdout",
     "output_type": "stream",
     "text": [
      "birds\n",
      "Cranes        4\n",
      "plovers       2\n",
      "spoonbills    4\n",
      "Name: birds, dtype: int64\n"
     ]
    }
   ],
   "source": [
    "print(df.groupby('birds')['birds'].count())"
   ]
  },
  {
   "cell_type": "markdown",
   "metadata": {
    "colab_type": "text",
    "id": "-SJ6OYuYhcww"
   },
   "source": [
    "**14. Sort dataframe (birds) first by the values in the 'age' in decending order, then by the value in the 'visits' column in ascending order.**"
   ]
  },
  {
   "cell_type": "code",
   "execution_count": 14,
   "metadata": {
    "colab": {},
    "colab_type": "code",
    "id": "1oeqEqBjhcwy"
   },
   "outputs": [
    {
     "name": "stdout",
     "output_type": "stream",
     "text": [
      "Before sorting\n",
      "        birds  age  visits priority\n",
      "a      Cranes  3.5       2      yes\n",
      "b      Cranes  4.0       4      yes\n",
      "c     plovers  1.5       3       no\n",
      "d  spoonbills  NaN       4      yes\n",
      "e  spoonbills  6.0       3       no\n",
      "f      Cranes  3.0       4       no\n",
      "g     plovers  5.5       2       no\n",
      "h      Cranes  NaN       2      yes\n",
      "i  spoonbills  8.0       3       no\n",
      "j  spoonbills  4.0       2       no\n",
      "After sorting\n",
      "        birds  age  visits priority\n",
      "i  spoonbills  8.0       3       no\n",
      "e  spoonbills  6.0       3       no\n",
      "g     plovers  5.5       2       no\n",
      "j  spoonbills  4.0       2       no\n",
      "b      Cranes  4.0       4      yes\n",
      "a      Cranes  3.5       2      yes\n",
      "f      Cranes  3.0       4       no\n",
      "c     plovers  1.5       3       no\n",
      "h      Cranes  NaN       2      yes\n",
      "d  spoonbills  NaN       4      yes\n"
     ]
    }
   ],
   "source": [
    "print(\"Before sorting\")\n",
    "print(df)\n",
    "df=df.sort_values(by=['age', 'visits'], ascending=[False, True])\n",
    "print(\"After sorting\")\n",
    "print(df)"
   ]
  },
  {
   "cell_type": "markdown",
   "metadata": {
    "colab_type": "text",
    "id": "JaKj7ZQUhcw7"
   },
   "source": [
    "**15. Replace the priority column values with'yes' should be 1 and 'no' should be 0**"
   ]
  },
  {
   "cell_type": "code",
   "execution_count": 15,
   "metadata": {
    "colab": {},
    "colab_type": "code",
    "id": "AJAPYiIHhcw9"
   },
   "outputs": [
    {
     "name": "stdout",
     "output_type": "stream",
     "text": [
      "Before replacing\n",
      "        birds  age  visits priority\n",
      "i  spoonbills  8.0       3       no\n",
      "e  spoonbills  6.0       3       no\n",
      "g     plovers  5.5       2       no\n",
      "j  spoonbills  4.0       2       no\n",
      "b      Cranes  4.0       4      yes\n",
      "a      Cranes  3.5       2      yes\n",
      "f      Cranes  3.0       4       no\n",
      "c     plovers  1.5       3       no\n",
      "h      Cranes  NaN       2      yes\n",
      "d  spoonbills  NaN       4      yes\n",
      "After replacing\n",
      "        birds  age  visits  priority\n",
      "i  spoonbills  8.0       3         0\n",
      "e  spoonbills  6.0       3         0\n",
      "g     plovers  5.5       2         0\n",
      "j  spoonbills  4.0       2         0\n",
      "b      Cranes  4.0       4         1\n",
      "a      Cranes  3.5       2         1\n",
      "f      Cranes  3.0       4         0\n",
      "c     plovers  1.5       3         0\n",
      "h      Cranes  NaN       2         1\n",
      "d  spoonbills  NaN       4         1\n"
     ]
    }
   ],
   "source": [
    "print(\"Before replacing\")\n",
    "print(df)\n",
    "df['priority']=df['priority'].map({'yes':1, 'no':0})\n",
    "print(\"After replacing\")\n",
    "print(df)"
   ]
  },
  {
   "cell_type": "markdown",
   "metadata": {
    "colab_type": "text",
    "id": "E2EFmujbhcxA"
   },
   "source": [
    "**16. In the 'birds' column, change the 'Cranes' entries to 'trumpeters'.**"
   ]
  },
  {
   "cell_type": "code",
   "execution_count": 16,
   "metadata": {
    "colab": {},
    "colab_type": "code",
    "id": "Bi29Cc6lhcxC"
   },
   "outputs": [
    {
     "name": "stdout",
     "output_type": "stream",
     "text": [
      "        birds  age  visits  priority\n",
      "i  spoonbills  8.0       3         0\n",
      "e  spoonbills  6.0       3         0\n",
      "g     plovers  5.5       2         0\n",
      "j  spoonbills  4.0       2         0\n",
      "b  trumpeters  4.0       4         1\n",
      "a  trumpeters  3.5       2         1\n",
      "f  trumpeters  3.0       4         0\n",
      "c     plovers  1.5       3         0\n",
      "h  trumpeters  NaN       2         1\n",
      "d  spoonbills  NaN       4         1\n"
     ]
    }
   ],
   "source": [
    "df['birds'] = df['birds'].map(lambda x: 'trumpeters' if x=='Cranes' else x)\n",
    "print(df)"
   ]
  }
 ],
 "metadata": {
  "colab": {
   "name": "pandas_basics_practice.ipynb",
   "provenance": [],
   "version": "0.3.2"
  },
  "kernelspec": {
   "display_name": "Python 3",
   "language": "python",
   "name": "python3"
  },
  "language_info": {
   "codemirror_mode": {
    "name": "ipython",
    "version": 3
   },
   "file_extension": ".py",
   "mimetype": "text/x-python",
   "name": "python",
   "nbconvert_exporter": "python",
   "pygments_lexer": "ipython3",
   "version": "3.8.3"
  }
 },
 "nbformat": 4,
 "nbformat_minor": 1
}
