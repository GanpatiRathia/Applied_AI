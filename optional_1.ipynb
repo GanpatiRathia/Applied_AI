{
  "nbformat": 4,
  "nbformat_minor": 0,
  "metadata": {
    "kernelspec": {
      "display_name": "Python 3",
      "language": "python",
      "name": "python3"
    },
    "language_info": {
      "codemirror_mode": {
        "name": "ipython",
        "version": 3
      },
      "file_extension": ".py",
      "mimetype": "text/x-python",
      "name": "python",
      "nbconvert_exporter": "python",
      "pygments_lexer": "ipython3",
      "version": "3.8.5"
    },
    "colab": {
      "name": "optional_1.ipynb",
      "provenance": [],
      "include_colab_link": true
    }
  },
  "cells": [
    {
      "cell_type": "markdown",
      "metadata": {
        "id": "view-in-github",
        "colab_type": "text"
      },
      "source": [
        "<a href=\"https://colab.research.google.com/github/GanpatiRathia/Applied_AI/blob/main/optional_1.ipynb\" target=\"_parent\"><img src=\"https://colab.research.google.com/assets/colab-badge.svg\" alt=\"Open In Colab\"/></a>"
      ]
    },
    {
      "cell_type": "markdown",
      "metadata": {
        "id": "laSapGJcJVwJ"
      },
      "source": [
        "# 1. Write a function that inputs a number and prints the multiplication table of that number"
      ]
    },
    {
      "cell_type": "code",
      "metadata": {
        "colab": {
          "base_uri": "https://localhost:8080/"
        },
        "id": "qOQZvRNMJVwV",
        "outputId": "d01cc074-760f-43ad-de56-e6364d1890c2"
      },
      "source": [
        "#function for printing multiplication table of input number\n",
        "def multiplicationTable():\n",
        "    # for taking input from user in integer format\n",
        "    number = int(input())\n",
        "    #for printing multiplication table for input number\n",
        "    print(\"--Multiplication table of\",number, \"is--\")\n",
        "    for i in range(1, 11):\n",
        "       print(number, 'x', i, '=', number * i )\n",
        "multiplicationTable()"
      ],
      "execution_count": 1,
      "outputs": [
        {
          "output_type": "stream",
          "text": [
            "3\n",
            "--Multiplication table of 3 is--\n",
            "3 x 1 = 3\n",
            "3 x 2 = 6\n",
            "3 x 3 = 9\n",
            "3 x 4 = 12\n",
            "3 x 5 = 15\n",
            "3 x 6 = 18\n",
            "3 x 7 = 21\n",
            "3 x 8 = 24\n",
            "3 x 9 = 27\n",
            "3 x 10 = 30\n"
          ],
          "name": "stdout"
        }
      ]
    },
    {
      "cell_type": "markdown",
      "metadata": {
        "id": "K6un5mprJVwX"
      },
      "source": [
        "# 2. Write a program to print twin primes less than 1000. If two consecutive odd numbers are both prime then they are known as twin primes"
      ]
    },
    {
      "cell_type": "code",
      "metadata": {
        "colab": {
          "base_uri": "https://localhost:8080/"
        },
        "id": "3wYc6auOJVwY",
        "outputId": "a5deda6a-a8fe-4534-af2a-9a8322234032"
      },
      "source": [
        "def isPrime(n):\n",
        "    for i in range(2,n):\n",
        "        if(n%i==0):\n",
        "            return False\n",
        "    return True\n",
        "print(\"Twin Primes between 1 and 1000 are : -\")    \n",
        "for i in range(2,1000):\n",
        "    if(isPrime(i) and isPrime(i+2)):\n",
        "        print (i,',',i+2)"
      ],
      "execution_count": 2,
      "outputs": [
        {
          "output_type": "stream",
          "text": [
            "Twin Primes between 1 and 1000 are : -\n",
            "3 , 5\n",
            "5 , 7\n",
            "11 , 13\n",
            "17 , 19\n",
            "29 , 31\n",
            "41 , 43\n",
            "59 , 61\n",
            "71 , 73\n",
            "101 , 103\n",
            "107 , 109\n",
            "137 , 139\n",
            "149 , 151\n",
            "179 , 181\n",
            "191 , 193\n",
            "197 , 199\n",
            "227 , 229\n",
            "239 , 241\n",
            "269 , 271\n",
            "281 , 283\n",
            "311 , 313\n",
            "347 , 349\n",
            "419 , 421\n",
            "431 , 433\n",
            "461 , 463\n",
            "521 , 523\n",
            "569 , 571\n",
            "599 , 601\n",
            "617 , 619\n",
            "641 , 643\n",
            "659 , 661\n",
            "809 , 811\n",
            "821 , 823\n",
            "827 , 829\n",
            "857 , 859\n",
            "881 , 883\n"
          ],
          "name": "stdout"
        }
      ]
    },
    {
      "cell_type": "markdown",
      "metadata": {
        "id": "NyfWYgp9JVwZ"
      },
      "source": [
        "# 3. Write a program to find out the prime factors of a number. Example: prime factors of 56 :- 2, 2, 2, 7"
      ]
    },
    {
      "cell_type": "code",
      "metadata": {
        "colab": {
          "base_uri": "https://localhost:8080/"
        },
        "id": "PAgqBByGJVwZ",
        "outputId": "3fedf767-429e-4245-f24d-017d2ae68b5b"
      },
      "source": [
        "#function for printing prime factors of a number \n",
        "def prime_factors(n): \n",
        "    while n % 2 == 0: \n",
        "        print (2), \n",
        "        n = n / 2\n",
        "    for i in range(3,int(n ** 0.5)+1,2): \n",
        "        while n % i== 0: \n",
        "            print (i), \n",
        "            n = n / i \n",
        "    if n > 2: \n",
        "        print (n) \n",
        "   \n",
        "m = int(input()) #For taking input from user\n",
        "print(\"Prime Factors of\",m,\"are - \")\n",
        "prime_factors(m)"
      ],
      "execution_count": 3,
      "outputs": [
        {
          "output_type": "stream",
          "text": [
            "56\n",
            "Prime Factors of 56 are - \n",
            "2\n",
            "2\n",
            "2\n",
            "7.0\n"
          ],
          "name": "stdout"
        }
      ]
    },
    {
      "cell_type": "markdown",
      "metadata": {
        "id": "aogwDz1OJVwa"
      },
      "source": [
        "# 4. Write a program to implement these formulae of permutations and combinations. Number of permutations of n objects taken r at a time: p(n, r) = n! / (n-r)!. Number of combinations of n objects taken r at a time is: c(n, r) = n! / (r!*(n-r)!) = p(n,r) / r!"
      ]
    },
    {
      "cell_type": "code",
      "metadata": {
        "colab": {
          "base_uri": "https://localhost:8080/"
        },
        "id": "J2rl-cvFJVwa",
        "outputId": "7d804417-6ae8-4427-8956-8735b556e7a2"
      },
      "source": [
        "#function for returning factorial of a number\n",
        "def factorial(n): \n",
        "    fact = 1; \n",
        "    for i in range(2,n+1): \n",
        "        fact = fact * i; \n",
        "    return fact; \n",
        "#function for returning Number of permutations of n objects taken r at a time\n",
        "def nPr(n, r): \n",
        "    pnr = factorial(n) / factorial(n - r); \n",
        "    return pnr;  \n",
        "#function for returning Number of combinations of n objects taken r at a time\n",
        "def nCr(n, r): \n",
        "    return (factorial(n) / (factorial(r) * factorial(n - r))) \n",
        "\n",
        "print(\"Number of permutations of 8 objects, taken 5 at a time is \",nPr(8, 5))\n",
        "print(\"Number of combinations of 8 objects, taken 5 at a time is \",nCr(8, 5))"
      ],
      "execution_count": 4,
      "outputs": [
        {
          "output_type": "stream",
          "text": [
            "Number of permutations of 8 objects, taken 5 at a time is  6720.0\n",
            "Number of combinations of 8 objects, taken 5 at a time is  56.0\n"
          ],
          "name": "stdout"
        }
      ]
    },
    {
      "cell_type": "markdown",
      "metadata": {
        "id": "x1bAlY3uJVwb"
      },
      "source": [
        "# 5. Write a function that converts a decimal number to binary number"
      ]
    },
    {
      "cell_type": "code",
      "metadata": {
        "colab": {
          "base_uri": "https://localhost:8080/"
        },
        "id": "dwPbXcXOJVwb",
        "outputId": "5ad1310c-4f14-44a6-9dd7-b85914ea2801"
      },
      "source": [
        "def decimalToBinary(n): \n",
        "    binaryNum = [0] * n \n",
        "    i = 0\n",
        "    while (n > 0):  \n",
        "        binaryNum[i] = n % 2 \n",
        "        n = int(n / 2)\n",
        "        i += 1\n",
        "    for j in range(i - 1, -1, -1): \n",
        "        print(binaryNum[j], end = \"\")\n",
        "print(\"Binary number of 45 is - \",end=\"\")\n",
        "decimalToBinary(45)"
      ],
      "execution_count": 5,
      "outputs": [
        {
          "output_type": "stream",
          "text": [
            "Binary number of 45 is - 101101"
          ],
          "name": "stdout"
        }
      ]
    },
    {
      "cell_type": "markdown",
      "metadata": {
        "id": "P2cqtHImJVwc"
      },
      "source": [
        "# 6. Write a function cubesum() that accepts an integer and returns the sum of the cubes of individual digits of that number. Use this function to make functions PrintArmstrong() and isArmstrong() to print Armstrong numbers and to find whether is an Armstrong number"
      ]
    },
    {
      "cell_type": "code",
      "metadata": {
        "colab": {
          "base_uri": "https://localhost:8080/"
        },
        "id": "u1Vt7qLsJVwc",
        "outputId": "2f794135-80f9-49fc-b643-d23019d4fa88"
      },
      "source": [
        "#function to add cube of digits\n",
        "def cubesum(n):\n",
        "    temp = n\n",
        "    sum = 0\n",
        "    while temp > 0:\n",
        "        digit = temp % 10\n",
        "        sum += digit ** 3\n",
        "        temp //= 10\n",
        "    return sum\n",
        "\n",
        "def isArmstrong(x):\n",
        "    if (x == cubesum(x)):\n",
        "        return True\n",
        "    else:\n",
        "        return False\n",
        "\n",
        "def PrintArmstrong(min,max):\n",
        "    for i in range(min,max):\n",
        "        if(isArmstrong(i)):\n",
        "            print(i)\n",
        "print(\"Armstrong number in range 1-1000 are :-\")\n",
        "PrintArmstrong(1,1000)"
      ],
      "execution_count": 6,
      "outputs": [
        {
          "output_type": "stream",
          "text": [
            "Armstrong number in range 1-1000 are :-\n",
            "1\n",
            "153\n",
            "370\n",
            "371\n",
            "407\n"
          ],
          "name": "stdout"
        }
      ]
    },
    {
      "cell_type": "markdown",
      "metadata": {
        "id": "XP2cbEm7JVwd"
      },
      "source": [
        "# 7. Write a function prodDigits() that inputs a number and returns the product of digits of that number."
      ]
    },
    {
      "cell_type": "code",
      "metadata": {
        "colab": {
          "base_uri": "https://localhost:8080/"
        },
        "id": "rNINN_y1JVwd",
        "outputId": "8a9dff8e-2c88-455d-f24d-a85107a537a7"
      },
      "source": [
        "# Function to get product of digits \n",
        "def prodDigits(n):\n",
        "    product = 1\n",
        "    while (n != 0): \n",
        "        product = product * (n % 10) \n",
        "        n = n // 10\n",
        "    return product \n",
        "print(\"Product of digits of number 4671 is :-\",prodDigits(4671)) "
      ],
      "execution_count": 7,
      "outputs": [
        {
          "output_type": "stream",
          "text": [
            "Product of digits of number 4671 is :- 168\n"
          ],
          "name": "stdout"
        }
      ]
    },
    {
      "cell_type": "markdown",
      "metadata": {
        "id": "BwzpAtyHJVwe"
      },
      "source": [
        "# 8. If all digits of a number n are multiplied by each other repeating with the product, the one digit number obtained at last is called the multiplicative digital root of n. The number of times digits need to be multiplied to reach one digit is called the multiplicative persistance of n. Example: 86 -> 48 -> 32 -> 6 (MDR 6, MPersistence 3) 341 -> 12->2 (MDR 2, MPersistence 2) Using the function prodDigits() of previous exercise write functions MDR() and MPersistence() that input a number and return its multiplicative digital root and multiplicative persistence respectively"
      ]
    },
    {
      "cell_type": "code",
      "metadata": {
        "colab": {
          "base_uri": "https://localhost:8080/"
        },
        "id": "vZ7A9q1aJVwe",
        "outputId": "f8125926-1550-4140-fca3-fd3f47bd7f61"
      },
      "source": [
        "def MDR(n):\n",
        "    temp = str(n)\n",
        "    while len(temp) > 1:\n",
        "        temp = str(prodDigits(int(temp)))\n",
        "    return int(temp)\n",
        "print(\"MDR of 86 : \",MDR(86))\n",
        "print(\"MDR of 341 : \",MDR(341))\n",
        "def MPersistence(n):\n",
        "    temp = str(n)\n",
        "    pers = 0\n",
        "    while len(temp) > 1:\n",
        "        temp = str(prodDigits(int(temp)))\n",
        "        pers += 1\n",
        "    return pers\n",
        "print(\"MPersistence of 86 : \",MPersistence(86))\n",
        "print(\"MPersistence of 341 : \",MPersistence(341))"
      ],
      "execution_count": 8,
      "outputs": [
        {
          "output_type": "stream",
          "text": [
            "MDR of 86 :  6\n",
            "MDR of 341 :  2\n",
            "MPersistence of 86 :  3\n",
            "MPersistence of 341 :  2\n"
          ],
          "name": "stdout"
        }
      ]
    },
    {
      "cell_type": "markdown",
      "metadata": {
        "id": "MwkCZ9uHJVwf"
      },
      "source": [
        "# 9. Write a function sumPdivisors() that finds the sum of proper divisors of a number. Proper divisors of a number are those numbers by which the number is divisible, except the number itself. For example proper divisors of 36 are 1, 2, 3, 4, 6, 9, 18"
      ]
    },
    {
      "cell_type": "code",
      "metadata": {
        "colab": {
          "base_uri": "https://localhost:8080/"
        },
        "id": "hJ1-718vJVwg",
        "outputId": "806ec65d-1345-44ea-d71a-07505cd19405"
      },
      "source": [
        "def sumPdivisors(n) : \n",
        "    sum = 0\n",
        "    for i in range(2, int(n**0.5)+ 1) : \n",
        "        if (n % i == 0) :\n",
        "            if (i == int(n / i)) : \n",
        "                sum = sum + i \n",
        "            else : \n",
        "                sum = sum + (i + int(n / i)) \n",
        "    return (sum + 1)\n",
        "print(\"sum of proper divisors of 36 is :\",sumPdivisors(36))"
      ],
      "execution_count": 9,
      "outputs": [
        {
          "output_type": "stream",
          "text": [
            "sum of proper divisors of 36 is : 55\n"
          ],
          "name": "stdout"
        }
      ]
    },
    {
      "cell_type": "markdown",
      "metadata": {
        "id": "ZhX4DX68JVwh"
      },
      "source": [
        "# 10. A number is called perfect if the sum of proper divisors of that number is equal to the number. For example 28 is perfect number, since 1+2+4+7+14=28. Write a program to print all the perfect numbers in a given range"
      ]
    },
    {
      "cell_type": "code",
      "metadata": {
        "colab": {
          "base_uri": "https://localhost:8080/"
        },
        "id": "5aqNXIyaJVwh",
        "outputId": "30351e82-7135-4efa-9ae4-4fb435c59601"
      },
      "source": [
        "def perfectNumbers(min,max):\n",
        "    for i in range(min,max):\n",
        "        if(i == sumPdivisors(i)):\n",
        "            print(i)\n",
        "print(\"Perfect numbers in range 1-1000 are :\")\n",
        "perfectNumbers(1,1000)"
      ],
      "execution_count": 10,
      "outputs": [
        {
          "output_type": "stream",
          "text": [
            "Perfect numbers in range 1-1000 are :\n",
            "1\n",
            "6\n",
            "28\n",
            "496\n"
          ],
          "name": "stdout"
        }
      ]
    },
    {
      "cell_type": "markdown",
      "metadata": {
        "id": "jrhlFgHBJVwi"
      },
      "source": [
        "# 11. Two different numbers are called amicable numbers if the sum of the proper divisors of each is equal to the other number. For example 220 and 284 are amicable numbers.Sum of proper divisors of 220 = 1 + 2 + 4 + 5 + 10 + 11 + 20 + 22 + 44 +55 + 110 = 284 Sum of proper divisors of 284 = 1 + 2 + 4 + 71 + 142 = 220 . Write a function to print pairs of amicable numbers in a range"
      ]
    },
    {
      "cell_type": "code",
      "metadata": {
        "colab": {
          "base_uri": "https://localhost:8080/"
        },
        "id": "CDIveTIvJVwj",
        "outputId": "b2437282-ce63-44a7-c033-6e4189c6d7fa"
      },
      "source": [
        "def amicablePairs(x, y) : \n",
        "  \n",
        "    if (sumPdivisors(x) != y) : \n",
        "        return False\n",
        "          \n",
        "    return (sumPdivisors(y) == x)\n",
        "\n",
        "def amicableNumbers(min,max):\n",
        "    for i in range(min,max):\n",
        "        for j in range(i+1,max):\n",
        "            if(amicablePairs(i,j)):\n",
        "                print(i,j)\n",
        "\n",
        "print(\"Amicable number in range 1-2000 :\" )\n",
        "amicableNumbers(1,2000)"
      ],
      "execution_count": 11,
      "outputs": [
        {
          "output_type": "stream",
          "text": [
            "Amicable number in range 1-2000 :\n",
            "220 284\n",
            "1184 1210\n"
          ],
          "name": "stdout"
        }
      ]
    },
    {
      "cell_type": "markdown",
      "metadata": {
        "id": "i-91zzkBJVwk"
      },
      "source": [
        "# 12. Write a program which can filter odd numbers in a list by using filter function"
      ]
    },
    {
      "cell_type": "code",
      "metadata": {
        "colab": {
          "base_uri": "https://localhost:8080/"
        },
        "id": "DXMpDRuYJVwk",
        "outputId": "9f765226-e565-4a1e-b2e7-1f7d7abb731e"
      },
      "source": [
        "list1 = [101,10,1,24,2,3,4,5,9,13,22,17,99]\n",
        "def Odd(x):\n",
        "    if x % 2 != 0:\n",
        "        return True\n",
        "    else:\n",
        "        return False\n",
        "\n",
        "odd_list = filter(Odd , list1)\n",
        "for x in odd_list:\n",
        "    print(x)"
      ],
      "execution_count": 12,
      "outputs": [
        {
          "output_type": "stream",
          "text": [
            "101\n",
            "1\n",
            "3\n",
            "5\n",
            "9\n",
            "13\n",
            "17\n",
            "99\n"
          ],
          "name": "stdout"
        }
      ]
    },
    {
      "cell_type": "markdown",
      "metadata": {
        "id": "TXtpTshFJVwl"
      },
      "source": [
        "# 13. Write a program which can map() to make a list whose elements are cube of elements in a given list"
      ]
    },
    {
      "cell_type": "code",
      "metadata": {
        "colab": {
          "base_uri": "https://localhost:8080/"
        },
        "id": "-rUPeMeRJVwm",
        "outputId": "e12465cf-55b2-4870-fc5d-cf36e3c57671"
      },
      "source": [
        "list2 = [1,2,3,4,5,6]\n",
        "def cube(x):\n",
        "    return x*x*x\n",
        "cube_list = map(cube, list2)\n",
        "for x in cube_list:\n",
        "    print(x)"
      ],
      "execution_count": 13,
      "outputs": [
        {
          "output_type": "stream",
          "text": [
            "1\n",
            "8\n",
            "27\n",
            "64\n",
            "125\n",
            "216\n"
          ],
          "name": "stdout"
        }
      ]
    },
    {
      "cell_type": "markdown",
      "metadata": {
        "id": "wD70IaTFJVwm"
      },
      "source": [
        "# 14. Write a program which can map() and filter() to make a list whose elements are cube of even number in a given list"
      ]
    },
    {
      "cell_type": "code",
      "metadata": {
        "colab": {
          "base_uri": "https://localhost:8080/"
        },
        "id": "oRYEiQ_sJVwm",
        "outputId": "1195414a-e4f5-4587-e669-19a5072086e2"
      },
      "source": [
        "list3 = [101,10,1,24,2,3,4,5,9,13,22,17,99]\n",
        "\n",
        "def Even(x):\n",
        "    if x % 2 == 0:\n",
        "        return True\n",
        "    else:\n",
        "        return False\n",
        "\n",
        "even_list = filter(Even, list3)\n",
        "even_cube_list = map(cube, even_list) #using cube function made in problem 13\n",
        "\n",
        "for x in even_cube_list:\n",
        "    print(x)"
      ],
      "execution_count": 14,
      "outputs": [
        {
          "output_type": "stream",
          "text": [
            "1000\n",
            "13824\n",
            "8\n",
            "64\n",
            "10648\n"
          ],
          "name": "stdout"
        }
      ]
    }
  ]
}